{
  "nbformat": 4,
  "nbformat_minor": 0,
  "metadata": {
    "colab": {
      "provenance": []
    },
    "kernelspec": {
      "name": "python3",
      "display_name": "Python 3"
    },
    "language_info": {
      "name": "python"
    }
  },
  "cells": [
    {
      "cell_type": "code",
      "execution_count": null,
      "metadata": {
        "colab": {
          "base_uri": "https://localhost:8080/"
        },
        "id": "wOkPJU1HEvmL",
        "outputId": "e18d8c4d-abf6-4f26-fe3c-d8c335c244ba"
      },
      "outputs": [
        {
          "output_type": "stream",
          "name": "stdout",
          "text": [
            "Mounted at /content/drive\n"
          ]
        }
      ],
      "source": [
        "import numpy as np\n",
        "import pandas as pd\n",
        "import os\n",
        "import csv\n",
        "from csv import reader\n",
        "import string\n",
        "import random\n",
        "import time\n",
        "from google.colab import drive\n",
        "drive.mount('/content/drive')\n"
      ]
    },
    {
      "cell_type": "code",
      "source": [
        "#identity func\n",
        "def iden():\n",
        "  local_table = {'A':10,'B':11,'C':12,'D':13,'E':14,'F':15,'G':16,'H':17,'I':34,\n",
        "          'J':18,'K':19,'L':20,'M':21,'N':22,'O':35,'P':23,'Q':24,'R':25,\n",
        "          'S':26,'T':27,'U':28,'V':29,'W':32,'X':30,'Y':31,'Z':33}\n",
        "  local = random.choice(list(local_table.keys()))  \n",
        "  check_arr = list(str(local_table[local]))   \n",
        "  check_arr[0] = int(check_arr[0])           \n",
        "  check_arr[1] = int(check_arr[1]) * 9   \n",
        "  sex = random.choice([1,2])   \n",
        "  check_arr.append(sex * 8)  \n",
        "  nums_str = ''                    \n",
        "\n",
        "  for j in range(7):                   \n",
        "      nums = random.randint(0, 9)      \n",
        "      nums_str = nums_str + str(nums) \n",
        "      check_arr.append(nums*(7-j))    \n",
        "\n",
        "  check_num = 10 - sum(check_arr)%10    \n",
        "  if check_num == 10:                   \n",
        "      check_num = 0\n",
        "  id_number = str(local) + str(sex) + nums_str + str(check_num) \n",
        "  return id_number  "
      ],
      "metadata": {
        "id": "MefzWp3RU57g"
      },
      "execution_count": null,
      "outputs": []
    },
    {
      "cell_type": "code",
      "source": [
        "#phone func\n",
        "def getmobile():\n",
        "    return ('09' +\n",
        "    str(random.randrange(4,10))+\n",
        "    ''.join( str(random.choice(range(10))) for _ in range(7) )   \n",
        "    )"
      ],
      "metadata": {
        "id": "b3GSdcqMkHEe"
      },
      "execution_count": null,
      "outputs": []
    },
    {
      "cell_type": "code",
      "source": [
        "#birthday func\n",
        "def birthday():\n",
        "  a1=(1956,1,1,0,0,0,0,0,0)              \n",
        "  a2=(2010,12,31,23,59,59,0,0,0)    \n",
        "\n",
        "  start=time.mktime(a1)    \n",
        "  end=time.mktime(a2)      \n",
        "   \n",
        "  t=random.randint(start,end)    \n",
        "  date_touple=time.localtime(t)        \n",
        "  date=time.strftime(\"%Y-%m-%d\",date_touple)  \n",
        "  return date"
      ],
      "metadata": {
        "id": "ATuHDfGnk14c"
      },
      "execution_count": null,
      "outputs": []
    },
    {
      "cell_type": "code",
      "source": [
        "#region func\n",
        "def reg():\n",
        "  region_list = ['Hsinchu', 'Taipei', 'Taoyuan', 'Nantou', 'Chiayi', 'Tainan', 'Kaohsiung', 'Yilan', 'Hualien', 'Taitung', 'Keelung']\n",
        "  idx= np.random.randint(0,len(region_list), size=1)\n",
        "  return [region_list[i] for i in idx]\n",
        "  "
      ],
      "metadata": {
        "id": "q6sLo0C7LLjL"
      },
      "execution_count": null,
      "outputs": []
    },
    {
      "cell_type": "code",
      "source": [
        "  #csvfile = open('csvfile_test.csv', 'a+')\n",
        "  #write = csv.writer(csvfile)\n",
        "  data_list=[]\n",
        "  id_list=[]\n",
        "  name_list=[]\n",
        "  identity_list=[]\n",
        "  birth_list=[]\n",
        "  phone_list=[]\n",
        "  region_list=[]\n",
        "  crime_list=[]\n",
        "  for i in range(1, 301):\n",
        "    #generate name\n",
        "    length_of_name = random.randint(3,8)\n",
        "    n=''.join(random.choice(string.ascii_letters ).lower() for _ in range(length_of_name))\n",
        "\n",
        "    #generate identity\n",
        "    id_number=iden()\n",
        "\n",
        "    #generate birthday\n",
        "    date=birthday()\n",
        "\n",
        "    #有無犯罪\n",
        "    #cri=random.choice('yn')\n",
        "    cri=bool(random.getrandbits(1))\n",
        "\n",
        "    #phone\n",
        "    p=getmobile()\n",
        "\n",
        "    #region\n",
        "    re=reg()\n",
        "\n",
        "    id=i\n",
        "    name=n\n",
        "    identity=id_number\n",
        "    birth=date\n",
        "    crime=cri\n",
        "    phone=p\n",
        "    region=re\n",
        "    id_list.append(id)\n",
        "    name_list.append(name)\n",
        "    identity_list.append(identity)\n",
        "    birth_list.append(birth)\n",
        "    phone_list.append(phone)\n",
        "    region_list.append(region)\n",
        "    crime_list.append(crime)\n",
        "    '''\n",
        "    data_list = [                      \n",
        "        'ID',id,'Name',name,'IdentityCard',identity,'Birthday',birth,'Phone',phone,'Region',region,'Crime',crime\n",
        "    ]\n",
        "    '''\n",
        "    #data_list.append(data)\n",
        "    #write.writerows(data_list)          \n"
      ],
      "metadata": {
        "id": "0RvXcvFpN6uR"
      },
      "execution_count": null,
      "outputs": []
    },
    {
      "cell_type": "code",
      "source": [
        "table={\"id\":id_list,\n",
        "       \"name\":name_list,\n",
        "       \"identity\":identity_list,\n",
        "       \"birth\":birth_list,\n",
        "       \"phone\":phone_list,\n",
        "       \"region\":region_list,\n",
        "       \"crime\":crime_list}\n",
        "data=pd.DataFrame(table)\n",
        "print(data.head())"
      ],
      "metadata": {
        "colab": {
          "base_uri": "https://localhost:8080/"
        },
        "id": "np9cvWt3G_V4",
        "outputId": "7a4b8a3d-da04-4037-8569-f36fbcccb80b"
      },
      "execution_count": null,
      "outputs": [
        {
          "output_type": "stream",
          "name": "stdout",
          "text": [
            "   id      name    identity       birth       phone       region  crime\n",
            "0   1  ktddaeja  Q175330017  1995-02-05  0990318902    [Hsinchu]  False\n",
            "1   2   uezhmxs  P125099551  1983-11-25  0973476611    [Hsinchu]  False\n",
            "2   3       nes  I102300220  1972-10-01  0961879198      [Yilan]   True\n",
            "3   4    hmducb  B287413290  2005-03-11  0983410644  [Kaohsiung]  False\n",
            "4   5      mful  W146309087  2001-06-02  0949444464  [Kaohsiung]  False\n"
          ]
        }
      ]
    },
    {
      "cell_type": "code",
      "source": [
        "#匯入csv\n",
        "data.to_csv('/content/drive/MyDrive/1118mode.csv')\n",
        "print(\"success\")"
      ],
      "metadata": {
        "colab": {
          "base_uri": "https://localhost:8080/"
        },
        "id": "BcDxRu7NKRfS",
        "outputId": "96c90d30-9e2f-46c1-c2f8-9b91a96d5266"
      },
      "execution_count": null,
      "outputs": [
        {
          "output_type": "stream",
          "name": "stdout",
          "text": [
            "success\n"
          ]
        }
      ]
    }
  ]
}